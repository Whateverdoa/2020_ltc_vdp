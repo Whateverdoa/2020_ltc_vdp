{
 "cells": [
  {
   "cell_type": "code",
   "execution_count": 29,
   "metadata": {},
   "outputs": [],
   "source": [
    "from pathlib import Path\n",
    "import pandas as pd\n",
    "pad = Path(r\"C:\\Users\\Dhr. Ten Hoonte\\PycharmProjects\\2020_ltc_vdp\\source\\vdps\")\n",
    "paduit = Path(r\"C:\\Users\\Dhr. Ten Hoonte\\PycharmProjects\\2020_ltc_vdp\\source\\summary\")\n",
    "padvdps = sorted(Path(pad).glob('*.csv'))\n",
    "mes = 4"
   ]
  },
  {
   "cell_type": "code",
   "execution_count": 19,
   "metadata": {},
   "outputs": [
    {
     "name": "stdout",
     "output_type": "stream",
     "text": [
      "['kolom_1', 'pdf_1', 'kolom_2', 'pdf_2', 'kolom_3', 'pdf_3', 'kolom_4', 'pdf_4']\n"
     ]
    }
   ],
   "source": [
    "def kol_naam_lijst_builder(mes_waarde=1):\n",
    "    kollomnaamlijst = []\n",
    "\n",
    "    for count in range(1, mes_waarde + 1):\n",
    "        # 5 = len (list) of mes\n",
    "        num = f\"kolom_{count}\"\n",
    "        omschrijving = f\"omschrijving_{count}\"\n",
    "        pdf = f\"pdf_{count}\"\n",
    "        kollomnaamlijst.append(num)\n",
    "        kollomnaamlijst.append(pdf)\n",
    "        # kollomnaamlijst.append(omschrijving)\n",
    "\n",
    "    # return [\"id\"] + kollomnaamlijst\n",
    "    return kollomnaamlijst\n",
    "print(kol_naam_lijst_builder(mes))"
   ]
  },
  {
   "cell_type": "code",
   "execution_count": null,
   "metadata": {},
   "outputs": [],
   "source": [
    "kolom_naam_gever_voor_4_kolommen"
   ]
  },
  {
   "cell_type": "code",
   "execution_count": 24,
   "metadata": {},
   "outputs": [
    {
     "name": "stdout",
     "output_type": "stream",
     "text": [
      "omschrijving_sluit_1,sluit_barcode_1,pdf_1,aantal_1,omschrijving_sluit_2,sluit_barcode_2,pdf_2,aantal_2,omschrijving_sluit_3,sluit_barcode_3,pdf_3,aantal_3,omschrijving_sluit_4,sluit_barcode_4,pdf_4,aantal_4\n",
      "\n"
     ]
    }
   ],
   "source": [
    "def kolom_naam_gever_voor_4_kolommen(mes=1):\n",
    "    \"\"\"supplies a specific string  met de oplopende kolom namen num_1, pdf_1, omschrijving_1 etc\"\"\"\n",
    "\n",
    "    def list_to_string(functie):\n",
    "        kolom_namen = \"\"\n",
    "        for kolomnamen in functie:\n",
    "            kolom_namen += kolomnamen + \",\"\n",
    "        return kolom_namen[:-1] + \"\\n\"\n",
    "\n",
    "    kollomnaamlijst = []\n",
    "\n",
    "    for count in range(1, mes + 1):\n",
    "        # 5 = len (list) of mes\n",
    "        omschrijving_sluit = f\"omschrijving_sluit_{count}\"\n",
    "        sluit_barcode = f\"sluit_barcode_{count}\"\n",
    "        beeld = f\"pdf_{count}\"\n",
    "        aantal = f\"aantal_{count}\"\n",
    "\n",
    "        kollomnaamlijst.append(omschrijving_sluit)\n",
    "        kollomnaamlijst.append(sluit_barcode)\n",
    "        kollomnaamlijst.append(beeld)\n",
    "        kollomnaamlijst.append(aantal)\n",
    "\n",
    "    namen = list_to_string(kollomnaamlijst)\n",
    "\n",
    "    return namen\n",
    "\n",
    "\n",
    "\n",
    "print(kolom_naam_gever_voor_4_kolommen(mes))"
   ]
  },
  {
   "cell_type": "code",
   "execution_count": 20,
   "metadata": {},
   "outputs": [],
   "source": [
    "def lees_per_lijst(lijst_met_posix_paden, mes_waarde):\n",
    "    \"\"\"1 lijst in len(lijst) namen uit\n",
    "    input lijst met posix paden\"\"\"\n",
    "    count = 1\n",
    "    concatlist = []\n",
    "    for posix_pad_naar_file in lijst_met_posix_paden:\n",
    "        # print(posix_pad_naar_file)\n",
    "        naam = f'file{count:>{0}{4}}'\n",
    "        # print(naam)\n",
    "        naam = pd.read_csv(posix_pad_naar_file)\n",
    "        concatlist.append(naam)\n",
    "        count += 1\n",
    "    kolomnamen = kol_naam_lijst_builder(mes_waarde)\n",
    "    lijst_over_axis_1 = pd.concat(concatlist, axis=1)\n",
    "    lijst_over_axis_1.columns = [kolomnamen]\n",
    "\n",
    "    return lijst_over_axis_1.to_csv(\"test2.csv\", index=0)\n",
    "    #return lijst_over_axis_1"
   ]
  },
  {
   "cell_type": "code",
   "execution_count": 27,
   "metadata": {},
   "outputs": [],
   "source": [
    "def horizontaal_samenvoegen(opgebroken_posix_lijst, map_uit, meswaarde):\n",
    "    count = 1\n",
    "    for lijst_met_posix in opgebroken_posix_lijst:\n",
    "        vdp_hor_stap = f'vdp_hor_stap_{count:>{0}{4}}.csv'\n",
    "        vdp_hor_stap = map_uit/ vdp_hor_stap\n",
    "        # print(vdp_hor_stap)\n",
    "        df = lees_per_lijst(lijst_met_posix, meswaarde)\n",
    "        # print(df.tail(5))\n",
    "\n",
    "        lees_per_lijst(lijst_met_posix, meswaarde).to_csv(vdp_hor_stap, index=0)\n",
    "\n",
    "        count += 1\n",
    "    return print(\"hor\")"
   ]
  },
  {
   "cell_type": "code",
   "execution_count": 31,
   "metadata": {},
   "outputs": [
    {
     "ename": "TypeError",
     "evalue": "'WindowsPath' object is not iterable",
     "output_type": "error",
     "traceback": [
      "\u001b[1;31m---------------------------------------------------------------------------\u001b[0m",
      "\u001b[1;31mTypeError\u001b[0m                                 Traceback (most recent call last)",
      "\u001b[1;32m<ipython-input-31-26fef2edaf41>\u001b[0m in \u001b[0;36m<module>\u001b[1;34m()\u001b[0m\n\u001b[1;32m----> 1\u001b[1;33m \u001b[0mhorizontaal_samenvoegen\u001b[0m\u001b[1;33m(\u001b[0m\u001b[0mpadvdps\u001b[0m\u001b[1;33m,\u001b[0m\u001b[0mpaduit\u001b[0m\u001b[1;33m,\u001b[0m\u001b[0mmes\u001b[0m\u001b[1;33m)\u001b[0m\u001b[1;33m\u001b[0m\u001b[0m\n\u001b[0m",
      "\u001b[1;32m<ipython-input-27-45d4e5e1d9ce>\u001b[0m in \u001b[0;36mhorizontaal_samenvoegen\u001b[1;34m(opgebroken_posix_lijst, map_uit, meswaarde)\u001b[0m\n\u001b[0;32m      5\u001b[0m         \u001b[0mvdp_hor_stap\u001b[0m \u001b[1;33m=\u001b[0m \u001b[0mmap_uit\u001b[0m\u001b[1;33m/\u001b[0m \u001b[0mvdp_hor_stap\u001b[0m\u001b[1;33m\u001b[0m\u001b[0m\n\u001b[0;32m      6\u001b[0m         \u001b[1;31m# print(vdp_hor_stap)\u001b[0m\u001b[1;33m\u001b[0m\u001b[1;33m\u001b[0m\u001b[0m\n\u001b[1;32m----> 7\u001b[1;33m         \u001b[0mdf\u001b[0m \u001b[1;33m=\u001b[0m \u001b[0mlees_per_lijst\u001b[0m\u001b[1;33m(\u001b[0m\u001b[0mlijst_met_posix\u001b[0m\u001b[1;33m,\u001b[0m \u001b[0mmeswaarde\u001b[0m\u001b[1;33m)\u001b[0m\u001b[1;33m\u001b[0m\u001b[0m\n\u001b[0m\u001b[0;32m      8\u001b[0m         \u001b[1;31m# print(df.tail(5))\u001b[0m\u001b[1;33m\u001b[0m\u001b[1;33m\u001b[0m\u001b[0m\n\u001b[0;32m      9\u001b[0m \u001b[1;33m\u001b[0m\u001b[0m\n",
      "\u001b[1;32m<ipython-input-20-5f2cf3c844f3>\u001b[0m in \u001b[0;36mlees_per_lijst\u001b[1;34m(lijst_met_posix_paden, mes_waarde)\u001b[0m\n\u001b[0;32m      4\u001b[0m     \u001b[0mcount\u001b[0m \u001b[1;33m=\u001b[0m \u001b[1;36m1\u001b[0m\u001b[1;33m\u001b[0m\u001b[0m\n\u001b[0;32m      5\u001b[0m     \u001b[0mconcatlist\u001b[0m \u001b[1;33m=\u001b[0m \u001b[1;33m[\u001b[0m\u001b[1;33m]\u001b[0m\u001b[1;33m\u001b[0m\u001b[0m\n\u001b[1;32m----> 6\u001b[1;33m     \u001b[1;32mfor\u001b[0m \u001b[0mposix_pad_naar_file\u001b[0m \u001b[1;32min\u001b[0m \u001b[0mlijst_met_posix_paden\u001b[0m\u001b[1;33m:\u001b[0m\u001b[1;33m\u001b[0m\u001b[0m\n\u001b[0m\u001b[0;32m      7\u001b[0m         \u001b[1;31m# print(posix_pad_naar_file)\u001b[0m\u001b[1;33m\u001b[0m\u001b[1;33m\u001b[0m\u001b[0m\n\u001b[0;32m      8\u001b[0m         \u001b[0mnaam\u001b[0m \u001b[1;33m=\u001b[0m \u001b[1;34mf'file{count:>{0}{4}}'\u001b[0m\u001b[1;33m\u001b[0m\u001b[0m\n",
      "\u001b[1;31mTypeError\u001b[0m: 'WindowsPath' object is not iterable"
     ]
    }
   ],
   "source": [
    "horizontaal_samenvoegen(padvdps,paduit,mes)"
   ]
  }
 ],
 "metadata": {
  "kernelspec": {
   "display_name": "Python 3",
   "language": "python",
   "name": "python3"
  },
  "language_info": {
   "codemirror_mode": {
    "name": "ipython",
    "version": 3
   },
   "file_extension": ".py",
   "mimetype": "text/x-python",
   "name": "python",
   "nbconvert_exporter": "python",
   "pygments_lexer": "ipython3",
   "version": "3.7.0"
  }
 },
 "nbformat": 4,
 "nbformat_minor": 2
}
